{
 "cells": [
  {
   "cell_type": "code",
   "execution_count": 6,
   "metadata": {},
   "outputs": [],
   "source": [
    "import random"
   ]
  },
  {
   "cell_type": "code",
   "execution_count": 8,
   "metadata": {},
   "outputs": [
    {
     "name": "stdout",
     "output_type": "stream",
     "text": [
      "enter number of candidates:5\n",
      "Enter5 candidates now:\n",
      "Chitti Anil Meena Manoj Murali\n",
      "Candidates are: ['Chitti', 'Anil', 'Meena', 'Manoj', 'Murali']\n",
      "Voting is live.... please wait for the results....\n",
      "Voting has been finished..and wait is over\n",
      "Here are the results\n",
      "Chitti : 82\n",
      "Anil : 4\n",
      "Meena : 19\n",
      "Manoj : 31\n",
      "Murali : 94\n",
      "Hence the winner is...\n",
      "Murali : 94\n"
     ]
    }
   ],
   "source": [
    "num = int(input('enter number of candidates:'))\n",
    "cand = input(f'Enter{num} candidates now:\\n').split()\n",
    "print('Candidates are:', cand)\n",
    "print('Voting is live.... please wait for the results....')\n",
    "print('Voting has been finished..and wait is over')\n",
    "print('Here are the results')\n",
    "votes = []\n",
    "for x in range(0,num):\n",
    "    c = random.randrange(1,100,3)\n",
    "    votes.append(c)\n",
    "for i in range(num):\n",
    "    print(cand[i],':',votes[i])\n",
    "print('Hence the winner is...')\n",
    "maximum = max(votes)\n",
    "count = 0\n",
    "for r in range (num):\n",
    "    if votes[r] == maximum:\n",
    "        count = r\n",
    "print(cand[count],':',maximum)\n"
   ]
  }
 ],
 "metadata": {
  "kernelspec": {
   "display_name": "Python 3",
   "language": "python",
   "name": "python3"
  },
  "language_info": {
   "codemirror_mode": {
    "name": "ipython",
    "version": 3
   },
   "file_extension": ".py",
   "mimetype": "text/x-python",
   "name": "python",
   "nbconvert_exporter": "python",
   "pygments_lexer": "ipython3",
   "version": "3.7.6"
  }
 },
 "nbformat": 4,
 "nbformat_minor": 4
}
