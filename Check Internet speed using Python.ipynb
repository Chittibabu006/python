{
 "cells": [
  {
   "cell_type": "markdown",
   "metadata": {},
   "source": [
    "### menu driven code"
   ]
  },
  {
   "cell_type": "code",
   "execution_count": 1,
   "metadata": {},
   "outputs": [
    {
     "data": {
      "text/plain": [
       "0"
      ]
     },
     "execution_count": 1,
     "metadata": {},
     "output_type": "execute_result"
    }
   ],
   "source": [
    "import os\n",
    "os.system('cmd /k \"ping localhost\"')\n"
   ]
  },
  {
   "cell_type": "markdown",
   "metadata": {},
   "source": [
    " ### output:\n",
    " \n",
    "Pinging DESKTOP-9FV757O [::1] with 32 bytes of data:\n",
    "Reply from ::1: time<1ms\n",
    "Reply from ::1: time<1ms\n",
    "Reply from ::1: time<1ms\n",
    "Reply from ::1: time<1ms\n",
    "\n",
    "Ping statistics for ::1:\n",
    "    Packets: Sent = 4, Received = 4, Lost = 0 (0% loss),\n",
    "Approximate round trip times in milli-seconds:\n",
    "    Minimum = 0ms, Maximum = 0ms, Average = 0ms\n"
   ]
  }
 ],
 "metadata": {
  "kernelspec": {
   "display_name": "Python 3",
   "language": "python",
   "name": "python3"
  },
  "language_info": {
   "codemirror_mode": {
    "name": "ipython",
    "version": 3
   },
   "file_extension": ".py",
   "mimetype": "text/x-python",
   "name": "python",
   "nbconvert_exporter": "python",
   "pygments_lexer": "ipython3",
   "version": "3.7.6"
  }
 },
 "nbformat": 4,
 "nbformat_minor": 4
}
