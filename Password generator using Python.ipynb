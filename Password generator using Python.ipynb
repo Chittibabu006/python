{
 "cells": [
  {
   "cell_type": "code",
   "execution_count": 2,
   "metadata": {},
   "outputs": [
    {
     "name": "stdout",
     "output_type": "stream",
     "text": [
      "K g^5P8S 'M E  h\n"
     ]
    }
   ],
   "source": [
    "import random\n",
    "s = \"abcdefghijkl\\\n",
    "        mnopqrstuvwxyz1234\\\n",
    "        567890ABCDEFGHIJKLM\\\n",
    "        NOPQRSTUVWXYZ!@$%^&*\\\n",
    "        ()_-+{};/';.,\"\n",
    "passwordlen = 16\n",
    "password = \"\".join(random.sample(s,passwordlen))\n",
    "print(password)"
   ]
  },
  {
   "cell_type": "code",
   "execution_count": null,
   "metadata": {},
   "outputs": [],
   "source": []
  }
 ],
 "metadata": {
  "kernelspec": {
   "display_name": "Python 3",
   "language": "python",
   "name": "python3"
  },
  "language_info": {
   "codemirror_mode": {
    "name": "ipython",
    "version": 3
   },
   "file_extension": ".py",
   "mimetype": "text/x-python",
   "name": "python",
   "nbconvert_exporter": "python",
   "pygments_lexer": "ipython3",
   "version": "3.7.6"
  }
 },
 "nbformat": 4,
 "nbformat_minor": 4
}
