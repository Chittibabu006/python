{
 "cells": [
  {
   "cell_type": "code",
   "execution_count": 1,
   "metadata": {},
   "outputs": [
    {
     "name": "stdout",
     "output_type": "stream",
     "text": [
      "Enter a Number:19\n",
      "Number is Odd!:\n",
      "Number is Odd!:\n"
     ]
    }
   ],
   "source": [
    "#Checking of a number even or odd\n",
    "\n",
    "number = int(input('Enter a Number:'))\n",
    "\n",
    "#Traditional way modules\n",
    "\n",
    "if number % 2 == 0:\n",
    "    print('Number is Even!:')\n",
    "else:\n",
    "    print('Number is Odd!:')\n",
    "    \n",
    "#Alternative way (Bitwise Operator)\n",
    "\n",
    "if number & 1:\n",
    "    print('Number is Odd!:')\n",
    "else:\n",
    "    print('Number is Even!:')"
   ]
  },
  {
   "cell_type": "code",
   "execution_count": null,
   "metadata": {},
   "outputs": [],
   "source": []
  }
 ],
 "metadata": {
  "kernelspec": {
   "display_name": "Python 3",
   "language": "python",
   "name": "python3"
  },
  "language_info": {
   "codemirror_mode": {
    "name": "ipython",
    "version": 3
   },
   "file_extension": ".py",
   "mimetype": "text/x-python",
   "name": "python",
   "nbconvert_exporter": "python",
   "pygments_lexer": "ipython3",
   "version": "3.7.6"
  }
 },
 "nbformat": 4,
 "nbformat_minor": 4
}
